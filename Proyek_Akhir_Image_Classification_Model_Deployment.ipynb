{
  "nbformat": 4,
  "nbformat_minor": 0,
  "metadata": {
    "colab": {
      "name": "Proyek Akhir : Image Classification Model Deployment.ipynb",
      "provenance": [],
      "collapsed_sections": []
    },
    "kernelspec": {
      "name": "python3",
      "display_name": "Python 3"
    },
    "language_info": {
      "name": "python"
    },
    "accelerator": "GPU"
  },
  "cells": [
    {
      "cell_type": "code",
      "metadata": {
        "id": "rsWoU9f1nkLu"
      },
      "source": [
        "# !unrar x \"/content/drive/MyDrive/Dicoding/classification.rar\" \"/content/drive/MyDrive/Dicoding/process\""
      ],
      "execution_count": null,
      "outputs": []
    },
    {
      "cell_type": "code",
      "metadata": {
        "colab": {
          "base_uri": "https://localhost:8080/"
        },
        "id": "cujttUxeRZLI",
        "outputId": "ec481f47-71be-41e7-fa8e-de9a2e848e03"
      },
      "source": [
        "from google.colab import drive\n",
        "drive.mount('/content/drive')"
      ],
      "execution_count": null,
      "outputs": [
        {
          "output_type": "stream",
          "text": [
            "Mounted at /content/drive\n"
          ],
          "name": "stdout"
        }
      ]
    },
    {
      "cell_type": "code",
      "metadata": {
        "id": "6_rFKRZ0RqnH"
      },
      "source": [
        "from tensorflow.keras.layers import Dense, Conv2D, MaxPooling2D, Dropout, LeakyReLU, Flatten, TimeDistributed\n",
        "from tensorflow.keras.layers import TimeDistributed\n",
        "from tensorflow.keras.optimizers import Adam, RMSprop, SGD\n",
        "from tensorflow.keras.callbacks import ModelCheckpoint\n",
        "from tensorflow.keras.applications.vgg19 import VGG19\n",
        "from tensorflow.keras.preprocessing.image import ImageDataGenerator\n",
        "from tensorflow.keras import models, optimizers\n",
        "\n",
        "from sklearn.preprocessing import LabelBinarizer\n",
        "from sklearn.model_selection import train_test_split\n",
        "from sklearn.metrics import average_precision_score\n",
        "\n",
        "from matplotlib import pyplot as plt\n",
        "from IPython.display import clear_output, display\n",
        "\n",
        "import pandas as pd\n",
        "import numpy as np\n",
        "import tensorflow as tf\n",
        "\n",
        "import math\n",
        "import glob\n",
        "import os\n",
        "import cv2\n",
        "import sys\n",
        "import time\n",
        "import shutil"
      ],
      "execution_count": null,
      "outputs": []
    },
    {
      "cell_type": "code",
      "metadata": {
        "colab": {
          "base_uri": "https://localhost:8080/"
        },
        "id": "lJEiuOSRTj58",
        "outputId": "30cd1726-033f-4792-bd08-dfe780bc40b8"
      },
      "source": [
        "class Config:\n",
        "  def __init__(self):\n",
        "    self.input_dim = 224\n",
        "    self.input_shape = ( self.input_dim , self.input_dim , 3 )\n",
        "    self.dropout_rate = 0.5\n",
        "    self.alpha = 0.2\n",
        "\n",
        "class DicodingCLS(Config):\n",
        "  def __init__(self):\n",
        "    super().__init__()\n",
        "\n",
        "    \n",
        "\n",
        "    self.base_dir = \"/content/drive/MyDrive/Dicoding/\"\n",
        "    self.dataset_dir = self.base_dir + \"dataset/\"\n",
        "    self.label = [x for x in sorted(os.listdir(self.dataset_dir))]\n",
        "    print(\"Label : \", self.label)\n",
        "    self.processing_dir = self.base_dir + \"process\"\n",
        "    try:\n",
        "      # shutil.rmtree(self.processing_dir)\n",
        "      pass\n",
        "    except:\n",
        "      pass\n",
        "\n",
        "    self.train_dir = os.path.join(self.processing_dir, 'train/')\n",
        "    self.test_dir = os.path.join(self.processing_dir, 'test/')\n",
        "\n",
        "    self.train_A_dir = os.path.join(self.train_dir, \"A\")\n",
        "    self.train_B_dir = os.path.join(self.train_dir, \"B\")\n",
        "    self.train_C_dir = os.path.join(self.train_dir, \"C\")\n",
        "    self.train_D_dir = os.path.join(self.train_dir, \"D\")\n",
        "\n",
        "    self.test_A_dir = os.path.join(self.test_dir, \"A\")\n",
        "    self.test_B_dir = os.path.join(self.test_dir, \"B\")\n",
        "    self.test_C_dir = os.path.join(self.test_dir, \"C\")\n",
        "    self.test_D_dir = os.path.join(self.test_dir, \"D\")\n",
        "\n",
        "    if not os.path.exists(self.processing_dir):\n",
        "      print(\"Build New Directory\")\n",
        "      os.mkdir(self.processing_dir)\n",
        "\n",
        "      \n",
        "      os.mkdir(self.train_dir)\n",
        "      \n",
        "      os.mkdir(self.test_dir)\n",
        "\n",
        "      \n",
        "      os.mkdir(self.train_A_dir)\n",
        "      \n",
        "      os.mkdir(self.train_B_dir)\n",
        "      \n",
        "      os.mkdir(self.train_C_dir)\n",
        "      \n",
        "      os.mkdir(self.train_D_dir)\n",
        "\n",
        "      \n",
        "      os.mkdir(self.test_A_dir)\n",
        "      \n",
        "      os.mkdir(self.test_B_dir)\n",
        "      \n",
        "      os.mkdir(self.test_C_dir)\n",
        "      \n",
        "      os.mkdir(self.test_D_dir)\n",
        "    else:\n",
        "      print(\"Directory Setted\")\n",
        "  \n",
        "  def load_image(self):\n",
        "    self.num_data = {}\n",
        "    self.x_train = []\n",
        "    self.y_train = []\n",
        "    self.x_test = []\n",
        "    self.y_test  = []\n",
        "    self.num_train_test = {}\n",
        "\n",
        "    for self.ls in sorted(os.listdir(self.dataset_dir)):\n",
        "      self.num_data[self.ls] = len(os.listdir(self.dataset_dir + self.ls))\n",
        "    print(\"Total Data : \",self.num_data)\n",
        "    print()\n",
        "\n",
        "    for self.idx in range(len(self.label)):\n",
        "      self.list_dir = glob.glob(os.path.join(self.dataset_dir+self.label[self.idx]+\"/\", '*.jpg'))\n",
        "      self.num_train_test[self.label[self.idx]] = [self.list_dir[:int(0.8*len(self.list_dir))], self.list_dir[int(0.8*len(self.list_dir)):]]\n",
        "    \n",
        "    print(\"Number of Data Train-Test:\")\n",
        "    print()\n",
        "    for x in self.num_train_test:\n",
        "      self.ntrain =  np.asarray(self.num_train_test[x][0]).shape\n",
        "      self.ntest = np.asarray(self.num_train_test[x][1]).shape\n",
        "      print(x, self.ntrain, self.ntest)\n",
        "  \n",
        "  def image_to_dir(self):\n",
        "    print(\"Copy to Train Dir\")\n",
        "    counter = 0\n",
        "    for fname in self.num_train_test[\"A\"][0]:\n",
        "      counter += 1\n",
        "\n",
        "      if counter == 2000:\n",
        "        for i in range(1,11):\n",
        "          sys.stdout.write(\"\\r\" + fname + str(\" {}/{}\".format(counter, len(self.num_train_test[\"A\"][0]))) + \" Wait...{} S\".format(i))\n",
        "          time.sleep(1)\n",
        "\n",
        "      sys.stdout.write(\"\\r\" + fname + str(\" {}/{}\".format(counter, len(self.num_train_test[\"A\"][0]))))\n",
        "      src = fname\n",
        "      dst = self.train_A_dir\n",
        "      shutil.copy(src, dst)\n",
        "    print()\n",
        "    counter = 0\n",
        "    for fname in self.num_train_test[\"B\"][0]:\n",
        "      counter += 1\n",
        "\n",
        "      if counter == 2000:\n",
        "        for i in range(1,11):\n",
        "          sys.stdout.write(\"\\r\" + fname + str(\" {}/{}\".format(counter, len(self.num_train_test[\"A\"][0]))) + \" Wait...{} S\".format(i))\n",
        "          time.sleep(1)\n",
        "        \n",
        "      sys.stdout.write(\"\\r\" + fname + str(\" {}/{}\".format(counter, len(self.num_train_test[\"B\"][0]))))\n",
        "      src = fname\n",
        "      dst = self.train_B_dir\n",
        "      shutil.copy(src, dst)\n",
        "    print()\n",
        "    counter = 0\n",
        "    for fname in self.num_train_test[\"C\"][0]:\n",
        "      counter += 1\n",
        "      \n",
        "      if counter == 2000:\n",
        "        for i in range(1,11):\n",
        "          sys.stdout.write(\"\\r\" + fname + str(\" {}/{}\".format(counter, len(self.num_train_test[\"A\"][0]))) + \" Wait...{} S\".format(i))\n",
        "          time.sleep(1)\n",
        "        \n",
        "      sys.stdout.write(\"\\r\" + fname + str(\" {}/{}\".format(counter, len(self.num_train_test[\"C\"][0]))))\n",
        "      src = fname\n",
        "      dst = self.train_C_dir\n",
        "      shutil.copy(src, dst)\n",
        "    print()\n",
        "    counter = 0\n",
        "    for fname in self.num_train_test[\"D\"][0]:\n",
        "      counter += 1\n",
        "      \n",
        "      if counter == 2000:\n",
        "        for i in range(1,11):\n",
        "          sys.stdout.write(\"\\r\" + fname + str(\" {}/{}\".format(counter, len(self.num_train_test[\"A\"][0]))) + \" Wait...{} S\".format(i))\n",
        "          time.sleep(1)\n",
        "        \n",
        "      sys.stdout.write(\"\\r\" + fname + str(\" {}/{}\".format(counter, len(self.num_train_test[\"D\"][0]))))\n",
        "      src = fname\n",
        "      dst = self.train_D_dir\n",
        "      shutil.copy(src, dst)\n",
        "    print()\n",
        "    print(\"Copy to Test Dir\")\n",
        "    counter = 0\n",
        "    for fname in self.num_train_test[\"A\"][1]:\n",
        "      counter += 1\n",
        "      \n",
        "      if counter == 2000:\n",
        "        for i in range(1,11):\n",
        "          sys.stdout.write(\"\\r\" + fname + str(\" {}/{}\".format(counter, len(self.num_train_test[\"A\"][0]))) + \" Wait...{} S\".format(i))\n",
        "          time.sleep(1)\n",
        "        \n",
        "      sys.stdout.write(\"\\r\" + fname + str(\" {}/{}\".format(counter, len(self.num_train_test[\"A\"][1]))))\n",
        "      src = fname\n",
        "      dst = self.test_A_dir\n",
        "      shutil.copy(src, dst)\n",
        "    print()\n",
        "    counter = 0\n",
        "    for fname in self.num_train_test[\"B\"][1]:\n",
        "      counter += 1\n",
        "      \n",
        "      if counter == 2000:\n",
        "        for i in range(1,11):\n",
        "          sys.stdout.write(\"\\r\" + fname + str(\" {}/{}\".format(counter, len(self.num_train_test[\"A\"][0]))) + \" Wait...{} S\".format(i))\n",
        "          time.sleep(1)\n",
        "        \n",
        "      sys.stdout.write(\"\\r\" + fname + str(\" {}/{}\".format(counter, len(self.num_train_test[\"B\"][1]))))\n",
        "      src = fname\n",
        "      dst = self.test_B_dir\n",
        "      shutil.copy(src, dst)\n",
        "    print()\n",
        "    counter = 0\n",
        "    for fname in self.num_train_test[\"C\"][1]:\n",
        "      counter += 1\n",
        "      \n",
        "      if counter == 2000:\n",
        "        for i in range(1,11):\n",
        "          sys.stdout.write(\"\\r\" + fname + str(\" {}/{}\".format(counter, len(self.num_train_test[\"A\"][0]))) + \" Wait...{} S\".format(i))\n",
        "          time.sleep(1)\n",
        "        \n",
        "      sys.stdout.write(\"\\r\" + fname + str(\" {}/{}\".format(counter, len(self.num_train_test[\"C\"][1]))))\n",
        "      src = fname\n",
        "      dst = self.test_C_dir\n",
        "      shutil.copy(src, dst)\n",
        "    print()\n",
        "    counter = 0\n",
        "    for fname in self.num_train_test[\"D\"][1]:\n",
        "      counter += 1\n",
        "      \n",
        "      if counter == 2000:\n",
        "        for i in range(1,11):\n",
        "          sys.stdout.write(\"\\r\" + fname + str(\" {}/{}\".format(counter, len(self.num_train_test[\"A\"][0]))) + \" Wait...{} S\".format(i))\n",
        "          time.sleep(1)\n",
        "        \n",
        "      sys.stdout.write(\"\\r\" + fname + str(\" {}/{}\".format(counter, len(self.num_train_test[\"D\"][1]))))\n",
        "      src = fname\n",
        "      dst = self.test_D_dir\n",
        "      shutil.copy(src, dst)\n",
        "    print()\n",
        "\n",
        "  def start(self):\n",
        "    pass\n",
        "    \n",
        "    # self.load_image()\n",
        "    # self.image_to_dir()\n",
        "\n",
        "CLS = DicodingCLS()\n",
        "CLS.start()"
      ],
      "execution_count": null,
      "outputs": [
        {
          "output_type": "stream",
          "text": [
            "Label :  ['A', 'B', 'C', 'D']\n",
            "Directory Setted\n"
          ],
          "name": "stdout"
        }
      ]
    },
    {
      "cell_type": "code",
      "metadata": {
        "colab": {
          "base_uri": "https://localhost:8080/"
        },
        "id": "7sS1thuhdqoD",
        "outputId": "1810e369-78c7-404d-c3db-ae8adf8c0f05"
      },
      "source": [
        "train = ImageDataGenerator(rescale=1./255)\n",
        "test = ImageDataGenerator(rescale=1./255)\n",
        "\n",
        "train_gen = train.flow_from_directory(\n",
        "    CLS.train_dir,\n",
        "    target_size=(150, 150),\n",
        "    batch_size=80,\n",
        "    class_mode='categorical')\n",
        "test_gen = test.flow_from_directory(\n",
        "    CLS.test_dir,\n",
        "    target_size=(150, 150),\n",
        "    batch_size=20,\n",
        "    class_mode='categorical')"
      ],
      "execution_count": null,
      "outputs": [
        {
          "output_type": "stream",
          "text": [
            "Found 9600 images belonging to 4 classes.\n",
            "Found 2400 images belonging to 4 classes.\n"
          ],
          "name": "stdout"
        }
      ]
    },
    {
      "cell_type": "code",
      "metadata": {
        "colab": {
          "base_uri": "https://localhost:8080/"
        },
        "id": "IqRKaWUffKEq",
        "outputId": "36bed297-b5a4-45ad-d4e3-f34edcd46e67"
      },
      "source": [
        "def build_neural_network():\n",
        "  alpha = 0.2\n",
        "\n",
        "  model_layers = [\n",
        "      # VGG16(weights='imagenet',\n",
        "      #       include_top=False,\n",
        "      #       input_shape=(150, 150, 3)),\n",
        "      Conv2D(64, (3, 3), activation='relu', input_shape=(150, 150, 3)),\n",
        "      Conv2D(32, kernel_size=(3,3)),\n",
        "      LeakyReLU(alpha = alpha),\n",
        "      MaxPooling2D(pool_size=(2,2)),\n",
        "      Dropout(0.5),\n",
        "\n",
        "      Flatten(),\n",
        "      Dense(16, activation = 'relu'),\n",
        "      Dropout(0.5),\n",
        "      Dense(4, activation = 'softmax')\n",
        "  ]\n",
        "  \n",
        "  model = models.Sequential(model_layers)\n",
        "  model.summary()\n",
        "  model.compile(\n",
        "      optimizer = optimizers.RMSprop(learning_rate = 5e-5),\n",
        "      loss = 'categorical_crossentropy',\n",
        "      metrics = ['acc']\n",
        "  )\n",
        "  return model\n",
        "\n",
        "neural_model = build_neural_network()"
      ],
      "execution_count": null,
      "outputs": [
        {
          "output_type": "stream",
          "text": [
            "Model: \"sequential_1\"\n",
            "_________________________________________________________________\n",
            "Layer (type)                 Output Shape              Param #   \n",
            "=================================================================\n",
            "conv2d_1 (Conv2D)            (None, 148, 148, 64)      1792      \n",
            "_________________________________________________________________\n",
            "conv2d_2 (Conv2D)            (None, 146, 146, 32)      18464     \n",
            "_________________________________________________________________\n",
            "leaky_re_lu_1 (LeakyReLU)    (None, 146, 146, 32)      0         \n",
            "_________________________________________________________________\n",
            "max_pooling2d_1 (MaxPooling2 (None, 73, 73, 32)        0         \n",
            "_________________________________________________________________\n",
            "dropout_2 (Dropout)          (None, 73, 73, 32)        0         \n",
            "_________________________________________________________________\n",
            "flatten_1 (Flatten)          (None, 170528)            0         \n",
            "_________________________________________________________________\n",
            "dense_2 (Dense)              (None, 16)                2728464   \n",
            "_________________________________________________________________\n",
            "dropout_3 (Dropout)          (None, 16)                0         \n",
            "_________________________________________________________________\n",
            "dense_3 (Dense)              (None, 4)                 68        \n",
            "=================================================================\n",
            "Total params: 2,748,788\n",
            "Trainable params: 2,748,788\n",
            "Non-trainable params: 0\n",
            "_________________________________________________________________\n"
          ],
          "name": "stdout"
        }
      ]
    },
    {
      "cell_type": "code",
      "metadata": {
        "colab": {
          "base_uri": "https://localhost:8080/",
          "height": 374
        },
        "id": "eK_j3AEYiTLY",
        "outputId": "5ce58419-0c8c-43bc-bd0c-22c26e56e91f"
      },
      "source": [
        "model_ckpt = ModelCheckpoint(CLS.base_dir+\"CLSModel.h5\", monitor = \"val_acc\",verbose=1, save_best_only=True, mode = 'max')\n",
        "history = neural_model.fit(train_gen,\n",
        "                           steps_per_epoch=9600//80,\n",
        "                           epochs=10,\n",
        "                           validation_data=test_gen,\n",
        "                           validation_steps=2400//20,\n",
        "                           callbacks = [model_ckpt])"
      ],
      "execution_count": null,
      "outputs": [
        {
          "output_type": "stream",
          "text": [
            "Epoch 1/10\n",
            "  2/120 [..............................] - ETA: 44:46 - loss: 1.4696 - acc: 0.2812"
          ],
          "name": "stdout"
        },
        {
          "output_type": "error",
          "ename": "KeyboardInterrupt",
          "evalue": "ignored",
          "traceback": [
            "\u001b[0;31m---------------------------------------------------------------------------\u001b[0m",
            "\u001b[0;31mKeyboardInterrupt\u001b[0m                         Traceback (most recent call last)",
            "\u001b[0;32m<ipython-input-10-c79f8dd4149d>\u001b[0m in \u001b[0;36m<module>\u001b[0;34m()\u001b[0m\n\u001b[1;32m      5\u001b[0m                            \u001b[0mvalidation_data\u001b[0m\u001b[0;34m=\u001b[0m\u001b[0mtest_gen\u001b[0m\u001b[0;34m,\u001b[0m\u001b[0;34m\u001b[0m\u001b[0;34m\u001b[0m\u001b[0m\n\u001b[1;32m      6\u001b[0m                            \u001b[0mvalidation_steps\u001b[0m\u001b[0;34m=\u001b[0m\u001b[0;36m2400\u001b[0m\u001b[0;34m//\u001b[0m\u001b[0;36m20\u001b[0m\u001b[0;34m,\u001b[0m\u001b[0;34m\u001b[0m\u001b[0;34m\u001b[0m\u001b[0m\n\u001b[0;32m----> 7\u001b[0;31m                            callbacks = [model_ckpt])\n\u001b[0m",
            "\u001b[0;32m/usr/local/lib/python3.7/dist-packages/tensorflow/python/keras/engine/training.py\u001b[0m in \u001b[0;36mfit\u001b[0;34m(self, x, y, batch_size, epochs, verbose, callbacks, validation_split, validation_data, shuffle, class_weight, sample_weight, initial_epoch, steps_per_epoch, validation_steps, validation_batch_size, validation_freq, max_queue_size, workers, use_multiprocessing)\u001b[0m\n\u001b[1;32m   1181\u001b[0m                 _r=1):\n\u001b[1;32m   1182\u001b[0m               \u001b[0mcallbacks\u001b[0m\u001b[0;34m.\u001b[0m\u001b[0mon_train_batch_begin\u001b[0m\u001b[0;34m(\u001b[0m\u001b[0mstep\u001b[0m\u001b[0;34m)\u001b[0m\u001b[0;34m\u001b[0m\u001b[0;34m\u001b[0m\u001b[0m\n\u001b[0;32m-> 1183\u001b[0;31m               \u001b[0mtmp_logs\u001b[0m \u001b[0;34m=\u001b[0m \u001b[0mself\u001b[0m\u001b[0;34m.\u001b[0m\u001b[0mtrain_function\u001b[0m\u001b[0;34m(\u001b[0m\u001b[0miterator\u001b[0m\u001b[0;34m)\u001b[0m\u001b[0;34m\u001b[0m\u001b[0;34m\u001b[0m\u001b[0m\n\u001b[0m\u001b[1;32m   1184\u001b[0m               \u001b[0;32mif\u001b[0m \u001b[0mdata_handler\u001b[0m\u001b[0;34m.\u001b[0m\u001b[0mshould_sync\u001b[0m\u001b[0;34m:\u001b[0m\u001b[0;34m\u001b[0m\u001b[0;34m\u001b[0m\u001b[0m\n\u001b[1;32m   1185\u001b[0m                 \u001b[0mcontext\u001b[0m\u001b[0;34m.\u001b[0m\u001b[0masync_wait\u001b[0m\u001b[0;34m(\u001b[0m\u001b[0;34m)\u001b[0m\u001b[0;34m\u001b[0m\u001b[0;34m\u001b[0m\u001b[0m\n",
            "\u001b[0;32m/usr/local/lib/python3.7/dist-packages/tensorflow/python/eager/def_function.py\u001b[0m in \u001b[0;36m__call__\u001b[0;34m(self, *args, **kwds)\u001b[0m\n\u001b[1;32m    887\u001b[0m \u001b[0;34m\u001b[0m\u001b[0m\n\u001b[1;32m    888\u001b[0m       \u001b[0;32mwith\u001b[0m \u001b[0mOptionalXlaContext\u001b[0m\u001b[0;34m(\u001b[0m\u001b[0mself\u001b[0m\u001b[0;34m.\u001b[0m\u001b[0m_jit_compile\u001b[0m\u001b[0;34m)\u001b[0m\u001b[0;34m:\u001b[0m\u001b[0;34m\u001b[0m\u001b[0;34m\u001b[0m\u001b[0m\n\u001b[0;32m--> 889\u001b[0;31m         \u001b[0mresult\u001b[0m \u001b[0;34m=\u001b[0m \u001b[0mself\u001b[0m\u001b[0;34m.\u001b[0m\u001b[0m_call\u001b[0m\u001b[0;34m(\u001b[0m\u001b[0;34m*\u001b[0m\u001b[0margs\u001b[0m\u001b[0;34m,\u001b[0m \u001b[0;34m**\u001b[0m\u001b[0mkwds\u001b[0m\u001b[0;34m)\u001b[0m\u001b[0;34m\u001b[0m\u001b[0;34m\u001b[0m\u001b[0m\n\u001b[0m\u001b[1;32m    890\u001b[0m \u001b[0;34m\u001b[0m\u001b[0m\n\u001b[1;32m    891\u001b[0m       \u001b[0mnew_tracing_count\u001b[0m \u001b[0;34m=\u001b[0m \u001b[0mself\u001b[0m\u001b[0;34m.\u001b[0m\u001b[0mexperimental_get_tracing_count\u001b[0m\u001b[0;34m(\u001b[0m\u001b[0;34m)\u001b[0m\u001b[0;34m\u001b[0m\u001b[0;34m\u001b[0m\u001b[0m\n",
            "\u001b[0;32m/usr/local/lib/python3.7/dist-packages/tensorflow/python/eager/def_function.py\u001b[0m in \u001b[0;36m_call\u001b[0;34m(self, *args, **kwds)\u001b[0m\n\u001b[1;32m    915\u001b[0m       \u001b[0;31m# In this case we have created variables on the first call, so we run the\u001b[0m\u001b[0;34m\u001b[0m\u001b[0;34m\u001b[0m\u001b[0;34m\u001b[0m\u001b[0m\n\u001b[1;32m    916\u001b[0m       \u001b[0;31m# defunned version which is guaranteed to never create variables.\u001b[0m\u001b[0;34m\u001b[0m\u001b[0;34m\u001b[0m\u001b[0;34m\u001b[0m\u001b[0m\n\u001b[0;32m--> 917\u001b[0;31m       \u001b[0;32mreturn\u001b[0m \u001b[0mself\u001b[0m\u001b[0;34m.\u001b[0m\u001b[0m_stateless_fn\u001b[0m\u001b[0;34m(\u001b[0m\u001b[0;34m*\u001b[0m\u001b[0margs\u001b[0m\u001b[0;34m,\u001b[0m \u001b[0;34m**\u001b[0m\u001b[0mkwds\u001b[0m\u001b[0;34m)\u001b[0m  \u001b[0;31m# pylint: disable=not-callable\u001b[0m\u001b[0;34m\u001b[0m\u001b[0;34m\u001b[0m\u001b[0m\n\u001b[0m\u001b[1;32m    918\u001b[0m     \u001b[0;32melif\u001b[0m \u001b[0mself\u001b[0m\u001b[0;34m.\u001b[0m\u001b[0m_stateful_fn\u001b[0m \u001b[0;32mis\u001b[0m \u001b[0;32mnot\u001b[0m \u001b[0;32mNone\u001b[0m\u001b[0;34m:\u001b[0m\u001b[0;34m\u001b[0m\u001b[0;34m\u001b[0m\u001b[0m\n\u001b[1;32m    919\u001b[0m       \u001b[0;31m# Release the lock early so that multiple threads can perform the call\u001b[0m\u001b[0;34m\u001b[0m\u001b[0;34m\u001b[0m\u001b[0;34m\u001b[0m\u001b[0m\n",
            "\u001b[0;32m/usr/local/lib/python3.7/dist-packages/tensorflow/python/eager/function.py\u001b[0m in \u001b[0;36m__call__\u001b[0;34m(self, *args, **kwargs)\u001b[0m\n\u001b[1;32m   3022\u001b[0m        filtered_flat_args) = self._maybe_define_function(args, kwargs)\n\u001b[1;32m   3023\u001b[0m     return graph_function._call_flat(\n\u001b[0;32m-> 3024\u001b[0;31m         filtered_flat_args, captured_inputs=graph_function.captured_inputs)  # pylint: disable=protected-access\n\u001b[0m\u001b[1;32m   3025\u001b[0m \u001b[0;34m\u001b[0m\u001b[0m\n\u001b[1;32m   3026\u001b[0m   \u001b[0;34m@\u001b[0m\u001b[0mproperty\u001b[0m\u001b[0;34m\u001b[0m\u001b[0;34m\u001b[0m\u001b[0m\n",
            "\u001b[0;32m/usr/local/lib/python3.7/dist-packages/tensorflow/python/eager/function.py\u001b[0m in \u001b[0;36m_call_flat\u001b[0;34m(self, args, captured_inputs, cancellation_manager)\u001b[0m\n\u001b[1;32m   1959\u001b[0m       \u001b[0;31m# No tape is watching; skip to running the function.\u001b[0m\u001b[0;34m\u001b[0m\u001b[0;34m\u001b[0m\u001b[0;34m\u001b[0m\u001b[0m\n\u001b[1;32m   1960\u001b[0m       return self._build_call_outputs(self._inference_function.call(\n\u001b[0;32m-> 1961\u001b[0;31m           ctx, args, cancellation_manager=cancellation_manager))\n\u001b[0m\u001b[1;32m   1962\u001b[0m     forward_backward = self._select_forward_and_backward_functions(\n\u001b[1;32m   1963\u001b[0m         \u001b[0margs\u001b[0m\u001b[0;34m,\u001b[0m\u001b[0;34m\u001b[0m\u001b[0;34m\u001b[0m\u001b[0m\n",
            "\u001b[0;32m/usr/local/lib/python3.7/dist-packages/tensorflow/python/eager/function.py\u001b[0m in \u001b[0;36mcall\u001b[0;34m(self, ctx, args, cancellation_manager)\u001b[0m\n\u001b[1;32m    594\u001b[0m               \u001b[0minputs\u001b[0m\u001b[0;34m=\u001b[0m\u001b[0margs\u001b[0m\u001b[0;34m,\u001b[0m\u001b[0;34m\u001b[0m\u001b[0;34m\u001b[0m\u001b[0m\n\u001b[1;32m    595\u001b[0m               \u001b[0mattrs\u001b[0m\u001b[0;34m=\u001b[0m\u001b[0mattrs\u001b[0m\u001b[0;34m,\u001b[0m\u001b[0;34m\u001b[0m\u001b[0;34m\u001b[0m\u001b[0m\n\u001b[0;32m--> 596\u001b[0;31m               ctx=ctx)\n\u001b[0m\u001b[1;32m    597\u001b[0m         \u001b[0;32melse\u001b[0m\u001b[0;34m:\u001b[0m\u001b[0;34m\u001b[0m\u001b[0;34m\u001b[0m\u001b[0m\n\u001b[1;32m    598\u001b[0m           outputs = execute.execute_with_cancellation(\n",
            "\u001b[0;32m/usr/local/lib/python3.7/dist-packages/tensorflow/python/eager/execute.py\u001b[0m in \u001b[0;36mquick_execute\u001b[0;34m(op_name, num_outputs, inputs, attrs, ctx, name)\u001b[0m\n\u001b[1;32m     58\u001b[0m     \u001b[0mctx\u001b[0m\u001b[0;34m.\u001b[0m\u001b[0mensure_initialized\u001b[0m\u001b[0;34m(\u001b[0m\u001b[0;34m)\u001b[0m\u001b[0;34m\u001b[0m\u001b[0;34m\u001b[0m\u001b[0m\n\u001b[1;32m     59\u001b[0m     tensors = pywrap_tfe.TFE_Py_Execute(ctx._handle, device_name, op_name,\n\u001b[0;32m---> 60\u001b[0;31m                                         inputs, attrs, num_outputs)\n\u001b[0m\u001b[1;32m     61\u001b[0m   \u001b[0;32mexcept\u001b[0m \u001b[0mcore\u001b[0m\u001b[0;34m.\u001b[0m\u001b[0m_NotOkStatusException\u001b[0m \u001b[0;32mas\u001b[0m \u001b[0me\u001b[0m\u001b[0;34m:\u001b[0m\u001b[0;34m\u001b[0m\u001b[0;34m\u001b[0m\u001b[0m\n\u001b[1;32m     62\u001b[0m     \u001b[0;32mif\u001b[0m \u001b[0mname\u001b[0m \u001b[0;32mis\u001b[0m \u001b[0;32mnot\u001b[0m \u001b[0;32mNone\u001b[0m\u001b[0;34m:\u001b[0m\u001b[0;34m\u001b[0m\u001b[0;34m\u001b[0m\u001b[0m\n",
            "\u001b[0;31mKeyboardInterrupt\u001b[0m: "
          ]
        }
      ]
    },
    {
      "cell_type": "code",
      "metadata": {
        "id": "KUvoub1N6O3Z"
      },
      "source": [
        "_history = pd.DataFrame({\"Acc\" : history.history['accuracy'],\n",
        "              \"Loss\" : history.history['loss'],\n",
        "              \"Val Acc\" : history.history['val_accuracy'],\n",
        "              \"Val Loss\" : history.history['val_loss'],\n",
        "              })\n",
        "if os.path.exists(CLS.base_dir+\"history.csv\"):\n",
        "  print(\"Append Existing History\")\n",
        "  history.to_csv(CLS.base_dir+'history.csv', mode='a', index=False, header=False)\n",
        "else:\n",
        "  print(\"Write New History\")\n",
        "  history.to_csv(CLS.base_dir+'history.csv', mode='w', index=False, header=True)"
      ],
      "execution_count": null,
      "outputs": []
    },
    {
      "cell_type": "code",
      "metadata": {
        "id": "rN_nuZMwj02l"
      },
      "source": [
        "\n",
        "acc = history.history['acc']\n",
        "val_acc = history.history['val_acc']\n",
        "loss = history.history['loss']\n",
        "val_loss = history.history['val_loss']\n",
        "epochs = range(1, len(acc) + 1)\n",
        "plt.plot(epochs, acc, 'bo', label='Training acc')\n",
        "plt.plot(epochs, val_acc, 'b', label='Validation acc')\n",
        "plt.title('Training and validation accuracy')\n",
        "plt.legend()\n",
        "plt.figure()\n",
        "plt.plot(epochs, loss, 'bo', label='Training loss')\n",
        "plt.plot(epochs, val_loss, 'b', label='Validation loss')\n",
        "plt.title('Training and validation loss')\n",
        "plt.legend()\n",
        "plt.show()"
      ],
      "execution_count": null,
      "outputs": []
    }
  ]
}